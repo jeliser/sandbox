{
 "cells": [
  {
   "cell_type": "code",
   "execution_count": 1,
   "id": "e928ff20",
   "metadata": {},
   "outputs": [],
   "source": [
    "import numpy as np\n",
    "import matplotlib.pyplot as plt\n",
    "import pandas as pd\n",
    "import datetime as dt\n",
    "\n",
    "from sklearn.preprocessing import MinMaxScaler\n",
    "from tensorflow.keras.models import Sequential\n",
    "from tensorflow.keras.layers import Dense, Dropout, LSTM\n",
    "\n",
    "%matplotlib notebook"
   ]
  },
  {
   "cell_type": "code",
   "execution_count": 156,
   "id": "23ef8244",
   "metadata": {},
   "outputs": [],
   "source": [
    "import seaborn as sn\n",
    "\n",
    "def plot_correlation(df):\n",
    "\n",
    "    fig, ax = plt.subplots(1, 1, figsize=(len(df.columns), len(df.columns)), dpi=100)\n",
    "    sn.heatmap(df.corr(), annot=True, ax=ax)\n",
    "    ax.set_title('Correlation Matrix')\n",
    "    return plt.gcf()"
   ]
  },
  {
   "cell_type": "code",
   "execution_count": 165,
   "id": "546d51bf",
   "metadata": {},
   "outputs": [],
   "source": [
    "def plot_history(history):\n",
    "    plt.plot(history.history['loss'], label='Training Loss')\n",
    "    plt.plot(history.history['val_loss'], label='Validation Loss')\n",
    "    plt.legend()\n",
    "    plt.show()\n",
    "\n",
    "    print(history.params)\n",
    "    print(history.history.keys())"
   ]
  },
  {
   "cell_type": "code",
   "execution_count": 220,
   "id": "8a7a4497",
   "metadata": {},
   "outputs": [],
   "source": [
    "# Load Data\n",
    "uav = pd.read_csv('uav_flight_data.csv')\n",
    "#fields = ['velocity_x', 'velocity_y', 'velocity_z', 'angular_x', 'angular_y', 'angular_z', 'linear_acceleration_x', 'linear_acceleration_y', 'linear_acceleration_z', 'position_z']\n",
    "fields = ['angular_x', 'angular_y', 'angular_z', 'linear_acceleration_x', 'linear_acceleration_y', 'linear_acceleration_z', 'wind_speed', 'wind_angle', 'battery_voltage', 'battery_current', 'position_z']\n",
    "#fields = ['angular_x', 'angular_y', 'angular_z', 'linear_acceleration_x', 'linear_acceleration_y', 'linear_acceleration_z', 'position_z']\n",
    "\n",
    "# TODO: Read the datetime from the parameters file\n",
    "start = dt.datetime(year=2015,month=1,day=1)\n",
    "uav['time'] = uav['time'] + start.timestamp()\n",
    "uav[\"time\"] = pd.to_datetime(uav[\"time\"], unit='s')\n",
    "\n",
    "uav = uav[['time', *fields]]\n",
    "\n",
    "# Do I still need this for this clean dataset?\n",
    "uav.fillna(uav.bfill())\n",
    "\n",
    "# Extract the training and test datasets\n",
    "train = uav[:int(len(uav)*0.8)]\n",
    "test = uav[int(len(uav)*0.8):]"
   ]
  },
  {
   "cell_type": "code",
   "execution_count": 221,
   "id": "c9ec3485",
   "metadata": {},
   "outputs": [
    {
     "name": "stdout",
     "output_type": "stream",
     "text": [
      "Scaled Data Shape:  (1447, 11)\n",
      "Window sample size:  144\n",
      "X Train Data Shape:  (1303, 144, 10)\n",
      "Y Train Data Shape:  (1303,)\n"
     ]
    }
   ],
   "source": [
    "# Prepare Data\n",
    "scaler = MinMaxScaler(feature_range=(0,1))\n",
    "scaled_data = np.array(scaler.fit_transform(train[fields]))\n",
    "print('Scaled Data Shape: ', scaled_data.shape)\n",
    "\n",
    "#plt.plot(scaled_data)\n",
    "#plt.show()\n",
    "\n",
    "window_sample_size = int(len(scaled_data) / 10)\n",
    "print('Window sample size: ', window_sample_size)\n",
    "\n",
    "# NOTE: We are only going to use ACCEL_Z predict POS_Z to keep the problem univariate\n",
    "x_train = []\n",
    "y_train = []\n",
    "# Build the sliding window of samples (find the technical word for this ... maybe in sktime?)\n",
    "for x in range(window_sample_size, len(scaled_data)):\n",
    "    x_train.append(scaled_data[x-window_sample_size:x, :-1])\n",
    "    y_train.append(scaled_data[x, -1])\n",
    "\n",
    "x_train, y_train = np.array(x_train), np.array(y_train)\n",
    "print('X Train Data Shape: ', x_train.shape)\n",
    "print('Y Train Data Shape: ', y_train.shape)\n"
   ]
  },
  {
   "cell_type": "code",
   "execution_count": 222,
   "id": "8eb8c0a1",
   "metadata": {},
   "outputs": [
    {
     "name": "stdout",
     "output_type": "stream",
     "text": [
      "Model: \"sequential_30\"\n",
      "_________________________________________________________________\n",
      " Layer (type)                Output Shape              Param #   \n",
      "=================================================================\n",
      " lstm_79 (LSTM)              (None, 144, 128)          71168     \n",
      "                                                                 \n",
      " dropout_75 (Dropout)        (None, 144, 128)          0         \n",
      "                                                                 \n",
      " lstm_80 (LSTM)              (None, 144, 128)          131584    \n",
      "                                                                 \n",
      " dropout_76 (Dropout)        (None, 144, 128)          0         \n",
      "                                                                 \n",
      " lstm_81 (LSTM)              (None, 128)               131584    \n",
      "                                                                 \n",
      " dropout_77 (Dropout)        (None, 128)               0         \n",
      "                                                                 \n",
      " dense_26 (Dense)            (None, 1)                 129       \n",
      "                                                                 \n",
      "=================================================================\n",
      "Total params: 334,465\n",
      "Trainable params: 334,465\n",
      "Non-trainable params: 0\n",
      "_________________________________________________________________\n",
      "Epoch 1/25\n",
      "37/37 [==============================] - 6s 57ms/step - loss: 0.0811 - val_loss: 0.3016\n",
      "Epoch 2/25\n",
      "37/37 [==============================] - 1s 29ms/step - loss: 0.0259 - val_loss: 0.4392\n",
      "Epoch 3/25\n",
      "37/37 [==============================] - 1s 27ms/step - loss: 0.0136 - val_loss: 0.4104\n",
      "Epoch 4/25\n",
      "37/37 [==============================] - 1s 27ms/step - loss: 0.0066 - val_loss: 0.4487\n",
      "Epoch 5/25\n",
      "37/37 [==============================] - 1s 27ms/step - loss: 0.0063 - val_loss: 0.4934\n",
      "Epoch 6/25\n",
      "37/37 [==============================] - 1s 27ms/step - loss: 0.0054 - val_loss: 0.4851\n",
      "Epoch 7/25\n",
      "37/37 [==============================] - 1s 27ms/step - loss: 0.0054 - val_loss: 0.4434\n",
      "Epoch 8/25\n",
      "37/37 [==============================] - 1s 27ms/step - loss: 0.0049 - val_loss: 0.4914\n",
      "Epoch 9/25\n",
      "37/37 [==============================] - 1s 27ms/step - loss: 0.0047 - val_loss: 0.4746\n",
      "Epoch 10/25\n",
      "37/37 [==============================] - 1s 27ms/step - loss: 0.0044 - val_loss: 0.4455\n",
      "Epoch 11/25\n",
      "37/37 [==============================] - 1s 28ms/step - loss: 0.0045 - val_loss: 0.4935\n",
      "Epoch 12/25\n",
      "37/37 [==============================] - 1s 27ms/step - loss: 0.0049 - val_loss: 0.5279\n",
      "Epoch 13/25\n",
      "37/37 [==============================] - 1s 27ms/step - loss: 0.0051 - val_loss: 0.4267\n",
      "Epoch 14/25\n",
      "37/37 [==============================] - 1s 27ms/step - loss: 0.0043 - val_loss: 0.4354\n",
      "Epoch 15/25\n",
      "37/37 [==============================] - 1s 27ms/step - loss: 0.0027 - val_loss: 0.4333\n",
      "Epoch 16/25\n",
      "37/37 [==============================] - 1s 27ms/step - loss: 0.0554 - val_loss: 0.3325\n",
      "Epoch 17/25\n",
      "37/37 [==============================] - 1s 28ms/step - loss: 0.0173 - val_loss: 0.4618\n",
      "Epoch 18/25\n",
      "37/37 [==============================] - 1s 27ms/step - loss: 0.0090 - val_loss: 0.4735\n",
      "Epoch 19/25\n",
      "37/37 [==============================] - 1s 27ms/step - loss: 0.0071 - val_loss: 0.4503\n",
      "Epoch 20/25\n",
      "37/37 [==============================] - 1s 27ms/step - loss: 0.0085 - val_loss: 0.4999\n",
      "Epoch 21/25\n",
      "37/37 [==============================] - 1s 27ms/step - loss: 0.0060 - val_loss: 0.3975\n",
      "Epoch 22/25\n",
      "37/37 [==============================] - 1s 27ms/step - loss: 0.0051 - val_loss: 0.4490\n",
      "Epoch 23/25\n",
      "37/37 [==============================] - 1s 27ms/step - loss: 0.0048 - val_loss: 0.4200\n",
      "Epoch 24/25\n",
      "37/37 [==============================] - 1s 27ms/step - loss: 0.0049 - val_loss: 0.4478\n",
      "Epoch 25/25\n",
      "37/37 [==============================] - 1s 29ms/step - loss: 0.0044 - val_loss: 0.4412\n"
     ]
    },
    {
     "data": {
      "image/png": "[encoded data removed]",
      "text/plain": [
       "<Figure size 432x288 with 1 Axes>"
      ]
     },
     "metadata": {
      "needs_background": "light"
     },
     "output_type": "display_data"
    },
    {
     "name": "stdout",
     "output_type": "stream",
     "text": [
      "{'verbose': 1, 'epochs': 25, 'steps': 37}\n",
      "dict_keys(['loss', 'val_loss'])\n"
     ]
    }
   ],
   "source": [
    "# Build The Model\n",
    "model = Sequential()\n",
    "\n",
    "model.add(LSTM(units=128, activation='tanh', return_sequences=True, input_shape=(x_train.shape[1:])))\n",
    "model.add(Dropout(0.4))\n",
    "model.add(LSTM(units=128, activation='tanh', return_sequences=True))\n",
    "model.add(Dropout(0.2))\n",
    "model.add(LSTM(units=128, activation='tanh', return_sequences=False))\n",
    "model.add(Dropout(0.1))\n",
    "model.add(Dense(units=1)) # Prediction of the next value\n",
    "\n",
    "model.compile(optimizer='adam', loss='mean_squared_error')\n",
    "model.summary()\n",
    "\n",
    "## Need to figure out how the data size and the batch_size work ... need to optimize for a GPU system.  Higher batch size works much better on the GPU (less overhead)\n",
    "history = model.fit(x_train, y_train, epochs=25, batch_size=32, validation_split=0.1)\n",
    "plot_history(history)"
   ]
  },
  {
   "cell_type": "code",
   "execution_count": 223,
   "id": "2c6ef32a",
   "metadata": {},
   "outputs": [
    {
     "name": "stdout",
     "output_type": "stream",
     "text": [
      "X Test Data Shape:  (797, 144, 10)\n",
      "Predictions:\n",
      " [[-0.02204567]\n",
      " [-0.02205535]\n",
      " [-0.02217684]\n",
      " [-0.02241383]\n",
      " [-0.02276395]\n",
      " [-0.02322867]\n",
      " [-0.02384192]\n",
      " [-0.02456891]\n",
      " [-0.02535537]\n",
      " [-0.0261843 ]]\n"
     ]
    }
   ],
   "source": [
    "### Test the Model Accuracy on Existing Data ###\n",
    "################################################\n",
    "\n",
    "# Build the test data\n",
    "x_test = []\n",
    "#len(total_temp)-len(test)-prediction_days\n",
    "for x in range(window_sample_size, len(scaled_data)-len(test)-window_sample_size):\n",
    "    x_test.append(scaled_data[x-window_sample_size:x, :-1])\n",
    "x_test = np.array(x_test)\n",
    "print('X Test Data Shape: ', x_test.shape)\n",
    "\n",
    "# Make Predictions on Test Data\n",
    "pred = model.predict(x_test)\n",
    "print('Predictions:\\n', pred[:][:10])\n",
    "\n",
    "#np.append(x_test, pred)\n",
    "#print('X Test Data Shape: ', x_test.shape)\n",
    "#pred = scaler.inverse_transform(x_test)\n",
    "#print('Inverse Transformed Predictions\\n', pred[:][:10])\n",
    "\n",
    "#from sklearn.metrics import mean_absolute_error\n",
    "#mean_absolute_error(test['Avg_Temp'], pred)"
   ]
  },
  {
   "cell_type": "code",
   "execution_count": 224,
   "id": "5b53fdde",
   "metadata": {
    "scrolled": true
   },
   "outputs": [
    {
     "name": "stderr",
     "output_type": "stream",
     "text": [
      "C:\\Users\\elisertech\\.venv\\testing\\lib\\site-packages\\seaborn\\_decorators.py:36: FutureWarning: Pass the following variables as keyword args: x, y. From version 0.12, the only valid positional argument will be `data`, and passing other arguments without an explicit keyword will result in an error or misinterpretation.\n",
      "  warnings.warn(\n",
      "C:\\Users\\elisertech\\.venv\\testing\\lib\\site-packages\\seaborn\\_decorators.py:36: FutureWarning: Pass the following variables as keyword args: x, y. From version 0.12, the only valid positional argument will be `data`, and passing other arguments without an explicit keyword will result in an error or misinterpretation.\n",
      "  warnings.warn(\n"
     ]
    },
    {
     "data": {
      "image/png": "[encoded data removed]",
      "text/plain": [
       "<Figure size 432x288 with 1 Axes>"
      ]
     },
     "metadata": {
      "needs_background": "light"
     },
     "output_type": "display_data"
    }
   ],
   "source": [
    "### Visualization ###\n",
    "#####################\n",
    "'''\n",
    "pred_ = pd.DataFrame(test['time'])\n",
    "pred_['position_x'] = pred\n",
    "pred_[\"time\"] = pd.to_datetime(pred_[\"time\"])\n",
    "print(pred_)\n",
    "original = florida.loc[florida['Date'] >= '1990-01-01']\n",
    "'''\n",
    "import seaborn as sns\n",
    "sns.lineplot(list(range(0, len(pred))), pred[:, 0])\n",
    "sns.lineplot(list(range(0, len(scaled_data))), scaled_data[:, -1])\n",
    "plt.show()"
   ]
  }
 ],
 "metadata": {
  "kernelspec": {
   "display_name": "Python 3 (ipykernel)",
   "language": "python",
   "name": "python3"
  },
  "language_info": {
   "codemirror_mode": {
    "name": "ipython",
    "version": 3
   },
   "file_extension": ".py",
   "mimetype": "text/x-python",
   "name": "python",
   "nbconvert_exporter": "python",
   "pygments_lexer": "ipython3",
   "version": "3.8.10"
  }
 },
 "nbformat": 4,
 "nbformat_minor": 5
}
