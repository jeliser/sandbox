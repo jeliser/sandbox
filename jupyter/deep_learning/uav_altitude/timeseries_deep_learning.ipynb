{
 "cells": [
  {
   "cell_type": "code",
   "execution_count": 1,
   "id": "e928ff20",
   "metadata": {},
   "outputs": [],
   "source": [
    "import numpy as np\n",
    "import matplotlib.pyplot as plt\n",
    "import pandas as pd\n",
    "import datetime as dt\n",
    "\n",
    "from sklearn.preprocessing import MinMaxScaler\n",
    "from tensorflow.keras.models import Sequential\n",
    "from tensorflow.keras.layers import Dense, Dropout, LSTM\n",
    "\n",
    "%matplotlib notebook"
   ]
  },
  {
   "cell_type": "code",
   "execution_count": 156,
   "id": "91b0648f",
   "metadata": {},
   "outputs": [],
   "source": [
    "import seaborn as sn\n",
    "\n",
    "def plot_correlation(df):\n",
    "\n",
    "    fig, ax = plt.subplots(1, 1, figsize=(len(df.columns), len(df.columns)), dpi=100)\n",
    "    sn.heatmap(df.corr(), annot=True, ax=ax)\n",
    "    ax.set_title('Correlation Matrix')\n",
    "    return plt.gcf()"
   ]
  },
  {
   "cell_type": "code",
   "execution_count": 165,
   "id": "e98d4f42",
   "metadata": {},
   "outputs": [],
   "source": [
    "def plot_history(history):\n",
    "    plt.plot(history.history['loss'], label='Training Loss')\n",
    "    plt.plot(history.history['val_loss'], label='Validation Loss')\n",
    "    plt.legend()\n",
    "    plt.show()\n",
    "\n",
    "    print(history.params)\n",
    "    print(history.history.keys())"
   ]
  },
  {
   "cell_type": "code",
   "execution_count": 232,
   "id": "8a7a4497",
   "metadata": {},
   "outputs": [],
   "source": [
    "# Load Data\n",
    "uav = pd.read_csv('uav_flight_data.csv')\n",
    "# This should be the miminum information required, but for a single flight it does not do well\n",
    "#fields = ['angular_x', 'angular_y', 'angular_z', 'linear_acceleration_x', 'linear_acceleration_y', 'linear_acceleration_z', 'position_z']\n",
    "# Adding in the wind speed and battery information, the model performs much, much better.\n",
    "#fields = ['angular_x', 'angular_y', 'angular_z', 'linear_acceleration_x', 'linear_acceleration_y', 'linear_acceleration_z', 'wind_speed', 'wind_angle', 'battery_voltage', 'battery_current', 'position_z']\n",
    "# Now with everyone!  This produced a great plot!!!  There must be non-correlated (?) information between the accel and vel terms.\n",
    "fields = ['velocity_x', 'velocity_y', 'velocity_z', 'angular_x', 'angular_y', 'angular_z', 'linear_acceleration_x', 'linear_acceleration_y', 'linear_acceleration_z', 'wind_speed', 'wind_angle', 'battery_voltage', 'battery_current', 'position_z']\n",
    "\n",
    "# TODO: Read the datetime from the parameters file\n",
    "start = dt.datetime(year=2015,month=1,day=1)\n",
    "uav['time'] = uav['time'] + start.timestamp()\n",
    "uav[\"time\"] = pd.to_datetime(uav[\"time\"], unit='s')\n",
    "\n",
    "uav = uav[['time', *fields]]\n",
    "\n",
    "# Do I still need this for this clean dataset?\n",
    "uav.fillna(uav.bfill())\n",
    "\n",
    "# Extract the training and test datasets\n",
    "train = uav[:int(len(uav)*0.8)]\n",
    "test = uav[int(len(uav)*0.8):]"
   ]
  },
  {
   "cell_type": "code",
   "execution_count": 233,
   "id": "c9ec3485",
   "metadata": {},
   "outputs": [
    {
     "name": "stdout",
     "output_type": "stream",
     "text": [
      "Scaled Data Shape:  (1447, 14)\n",
      "Window sample size:  144\n",
      "X Train Data Shape:  (1303, 144, 13)\n",
      "Y Train Data Shape:  (1303,)\n"
     ]
    }
   ],
   "source": [
    "# Prepare Data\n",
    "scaler = MinMaxScaler(feature_range=(0,1))\n",
    "scaled_data = np.array(scaler.fit_transform(train[fields]))\n",
    "print('Scaled Data Shape: ', scaled_data.shape)\n",
    "\n",
    "#plt.plot(scaled_data)\n",
    "#plt.show()\n",
    "\n",
    "window_sample_size = int(len(scaled_data) / 10)\n",
    "print('Window sample size: ', window_sample_size)\n",
    "\n",
    "# NOTE: We are only going to use ACCEL_Z predict POS_Z to keep the problem univariate\n",
    "x_train = []\n",
    "y_train = []\n",
    "# Build the sliding window of samples (find the technical word for this ... maybe in sktime?)\n",
    "for x in range(window_sample_size, len(scaled_data)):\n",
    "    x_train.append(scaled_data[x-window_sample_size:x, :-1])\n",
    "    y_train.append(scaled_data[x, -1])\n",
    "\n",
    "x_train, y_train = np.array(x_train), np.array(y_train)\n",
    "print('X Train Data Shape: ', x_train.shape)\n",
    "print('Y Train Data Shape: ', y_train.shape)\n"
   ]
  },
  {
   "cell_type": "code",
   "execution_count": 234,
   "id": "8eb8c0a1",
   "metadata": {},
   "outputs": [
    {
     "name": "stdout",
     "output_type": "stream",
     "text": [
      "Model: \"sequential_32\"\n",
      "_________________________________________________________________\n",
      " Layer (type)                Output Shape              Param #   \n",
      "=================================================================\n",
      " lstm_85 (LSTM)              (None, 144, 128)          72704     \n",
      "                                                                 \n",
      " dropout_81 (Dropout)        (None, 144, 128)          0         \n",
      "                                                                 \n",
      " lstm_86 (LSTM)              (None, 144, 128)          131584    \n",
      "                                                                 \n",
      " dropout_82 (Dropout)        (None, 144, 128)          0         \n",
      "                                                                 \n",
      " lstm_87 (LSTM)              (None, 128)               131584    \n",
      "                                                                 \n",
      " dropout_83 (Dropout)        (None, 128)               0         \n",
      "                                                                 \n",
      " dense_28 (Dense)            (None, 1)                 129       \n",
      "                                                                 \n",
      "=================================================================\n",
      "Total params: 336,001\n",
      "Trainable params: 336,001\n",
      "Non-trainable params: 0\n",
      "_________________________________________________________________\n",
      "Epoch 1/25\n",
      "37/37 [==============================] - 6s 62ms/step - loss: 0.0834 - val_loss: 0.2719\n",
      "Epoch 2/25\n",
      "37/37 [==============================] - 1s 28ms/step - loss: 0.0133 - val_loss: 0.3572\n",
      "Epoch 3/25\n",
      "37/37 [==============================] - 1s 27ms/step - loss: 0.0079 - val_loss: 0.2894\n",
      "Epoch 4/25\n",
      "37/37 [==============================] - 1s 27ms/step - loss: 0.0050 - val_loss: 0.1472\n",
      "Epoch 5/25\n",
      "37/37 [==============================] - 1s 27ms/step - loss: 0.0037 - val_loss: 0.1427\n",
      "Epoch 6/25\n",
      "37/37 [==============================] - 1s 27ms/step - loss: 0.0026 - val_loss: 0.0806\n",
      "Epoch 7/25\n",
      "37/37 [==============================] - 1s 27ms/step - loss: 0.0030 - val_loss: 0.0501\n",
      "Epoch 8/25\n",
      "37/37 [==============================] - 1s 27ms/step - loss: 0.0022 - val_loss: 0.0518\n",
      "Epoch 9/25\n",
      "37/37 [==============================] - 1s 27ms/step - loss: 0.0026 - val_loss: 0.0379\n",
      "Epoch 10/25\n",
      "37/37 [==============================] - 1s 29ms/step - loss: 0.0026 - val_loss: 0.0294\n",
      "Epoch 11/25\n",
      "37/37 [==============================] - 1s 29ms/step - loss: 0.0022 - val_loss: 0.0323\n",
      "Epoch 12/25\n",
      "37/37 [==============================] - 1s 28ms/step - loss: 0.0019 - val_loss: 0.0142\n",
      "Epoch 13/25\n",
      "37/37 [==============================] - 1s 28ms/step - loss: 0.0017 - val_loss: 0.0158\n",
      "Epoch 14/25\n",
      "37/37 [==============================] - 1s 27ms/step - loss: 0.0021 - val_loss: 0.0208\n",
      "Epoch 15/25\n",
      "37/37 [==============================] - 1s 27ms/step - loss: 0.0015 - val_loss: 0.0594\n",
      "Epoch 16/25\n",
      "37/37 [==============================] - 1s 28ms/step - loss: 0.0014 - val_loss: 0.0291\n",
      "Epoch 17/25\n",
      "37/37 [==============================] - 1s 27ms/step - loss: 0.0016 - val_loss: 0.0160\n",
      "Epoch 18/25\n",
      "37/37 [==============================] - 1s 27ms/step - loss: 0.0013 - val_loss: 0.0161\n",
      "Epoch 19/25\n",
      "37/37 [==============================] - 1s 27ms/step - loss: 0.0013 - val_loss: 0.0243\n",
      "Epoch 20/25\n",
      "37/37 [==============================] - 1s 27ms/step - loss: 0.0013 - val_loss: 0.0201\n",
      "Epoch 21/25\n",
      "37/37 [==============================] - 1s 27ms/step - loss: 0.0013 - val_loss: 0.0147\n",
      "Epoch 22/25\n",
      "37/37 [==============================] - 1s 27ms/step - loss: 0.0014 - val_loss: 0.0328\n",
      "Epoch 23/25\n",
      "37/37 [==============================] - 1s 27ms/step - loss: 0.0013 - val_loss: 0.0236\n",
      "Epoch 24/25\n",
      "37/37 [==============================] - 1s 28ms/step - loss: 0.0011 - val_loss: 0.0250\n",
      "Epoch 25/25\n",
      "37/37 [==============================] - 1s 27ms/step - loss: 0.0012 - val_loss: 0.0157\n"
     ]
    },
    {
     "data": {
      "image/png": "[encoded data removed]",
      "text/plain": [
       "<Figure size 432x288 with 1 Axes>"
      ]
     },
     "metadata": {
      "needs_background": "light"
     },
     "output_type": "display_data"
    },
    {
     "name": "stdout",
     "output_type": "stream",
     "text": [
      "{'verbose': 1, 'epochs': 25, 'steps': 37}\n",
      "dict_keys(['loss', 'val_loss'])\n"
     ]
    }
   ],
   "source": [
    "# Build The Model\n",
    "model = Sequential()\n",
    "\n",
    "model.add(LSTM(units=128, activation='tanh', return_sequences=True, input_shape=(x_train.shape[1:])))\n",
    "model.add(Dropout(0.4))\n",
    "model.add(LSTM(units=128, activation='tanh', return_sequences=True))\n",
    "model.add(Dropout(0.2))\n",
    "model.add(LSTM(units=128, activation='tanh', return_sequences=False))\n",
    "model.add(Dropout(0.1))\n",
    "model.add(Dense(units=1)) # Prediction of the next value\n",
    "\n",
    "model.compile(optimizer='adam', loss='mean_squared_error')\n",
    "model.summary()\n",
    "\n",
    "## Need to figure out how the data size and the batch_size work ... need to optimize for a GPU system.  Higher batch size works much better on the GPU (less overhead)\n",
    "history = model.fit(x_train, y_train, epochs=25, batch_size=32, validation_split=0.1)\n",
    "plot_history(history)"
   ]
  },
  {
   "cell_type": "code",
   "execution_count": 235,
   "id": "2c6ef32a",
   "metadata": {},
   "outputs": [
    {
     "name": "stdout",
     "output_type": "stream",
     "text": [
      "X Test Data Shape:  (797, 144, 13)\n",
      "Predictions:\n",
      " [[0.0055823 ]\n",
      " [0.00624539]\n",
      " [0.00682493]\n",
      " [0.00730008]\n",
      " [0.00765004]\n",
      " [0.00785843]\n",
      " [0.00790894]\n",
      " [0.00779283]\n",
      " [0.00751484]\n",
      " [0.00708566]]\n"
     ]
    }
   ],
   "source": [
    "### Test the Model Accuracy on Existing Data ###\n",
    "################################################\n",
    "\n",
    "# Build the test data\n",
    "x_test = []\n",
    "#len(total_temp)-len(test)-prediction_days\n",
    "for x in range(window_sample_size, len(scaled_data)-len(test)-window_sample_size):\n",
    "    x_test.append(scaled_data[x-window_sample_size:x, :-1])\n",
    "x_test = np.array(x_test)\n",
    "print('X Test Data Shape: ', x_test.shape)\n",
    "\n",
    "# Make Predictions on Test Data\n",
    "pred = model.predict(x_test)\n",
    "print('Predictions:\\n', pred[:][:10])\n",
    "\n",
    "#np.append(x_test, pred)\n",
    "#print('X Test Data Shape: ', x_test.shape)\n",
    "#pred = scaler.inverse_transform(x_test)\n",
    "#print('Inverse Transformed Predictions\\n', pred[:][:10])\n",
    "\n",
    "#from sklearn.metrics import mean_absolute_error\n",
    "#mean_absolute_error(test['Avg_Temp'], pred)"
   ]
  },
  {
   "cell_type": "code",
   "execution_count": 236,
   "id": "5b53fdde",
   "metadata": {
    "scrolled": true
   },
   "outputs": [
    {
     "name": "stderr",
     "output_type": "stream",
     "text": [
      "C:\\Users\\elisertech\\.venv\\testing\\lib\\site-packages\\seaborn\\_decorators.py:36: FutureWarning: Pass the following variables as keyword args: x, y. From version 0.12, the only valid positional argument will be `data`, and passing other arguments without an explicit keyword will result in an error or misinterpretation.\n",
      "  warnings.warn(\n",
      "C:\\Users\\elisertech\\.venv\\testing\\lib\\site-packages\\seaborn\\_decorators.py:36: FutureWarning: Pass the following variables as keyword args: x, y. From version 0.12, the only valid positional argument will be `data`, and passing other arguments without an explicit keyword will result in an error or misinterpretation.\n",
      "  warnings.warn(\n"
     ]
    },
    {
     "data": {
      "image/png": "[encoded data removed]",
      "text/plain": [
       "<Figure size 432x288 with 1 Axes>"
      ]
     },
     "metadata": {
      "needs_background": "light"
     },
     "output_type": "display_data"
    }
   ],
   "source": [
    "### Visualization ###\n",
    "#####################\n",
    "'''\n",
    "pred_ = pd.DataFrame(test['time'])\n",
    "pred_['position_x'] = pred\n",
    "pred_[\"time\"] = pd.to_datetime(pred_[\"time\"])\n",
    "print(pred_)\n",
    "original = florida.loc[florida['Date'] >= '1990-01-01']\n",
    "'''\n",
    "import seaborn as sns\n",
    "sns.lineplot(list(range(0, len(pred))), pred[:, 0])\n",
    "sns.lineplot(list(range(0, len(scaled_data))), scaled_data[:, -1])\n",
    "plt.show()"
   ]
  }
 ],
 "metadata": {
  "kernelspec": {
   "display_name": "Python 3 (ipykernel)",
   "language": "python",
   "name": "python3"
  },
  "language_info": {
   "codemirror_mode": {
    "name": "ipython",
    "version": 3
   },
   "file_extension": ".py",
   "mimetype": "text/x-python",
   "name": "python",
   "nbconvert_exporter": "python",
   "pygments_lexer": "ipython3",
   "version": "3.8.10"
  }
 },
 "nbformat": 4,
 "nbformat_minor": 5
}
