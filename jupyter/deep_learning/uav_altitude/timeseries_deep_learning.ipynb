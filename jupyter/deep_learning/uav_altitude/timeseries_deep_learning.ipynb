{
 "cells": [
  {
   "cell_type": "code",
   "execution_count": 1,
   "id": "e928ff20",
   "metadata": {},
   "outputs": [],
   "source": [
    "import numpy as np\n",
    "import matplotlib.pyplot as plt\n",
    "import pandas as pd\n",
    "import datetime as dt\n",
    "\n",
    "from sklearn.preprocessing import MinMaxScaler\n",
    "from tensorflow.keras.models import Sequential\n",
    "from tensorflow.keras.layers import Dense, Dropout, LSTM\n",
    "\n",
    "%matplotlib notebook"
   ]
  },
  {
   "cell_type": "code",
   "execution_count": 156,
   "id": "0d9e7a29",
   "metadata": {},
   "outputs": [],
   "source": [
    "import seaborn as sn\n",
    "\n",
    "def plot_correlation(df):\n",
    "\n",
    "    fig, ax = plt.subplots(1, 1, figsize=(len(df.columns), len(df.columns)), dpi=100)\n",
    "    sn.heatmap(df.corr(), annot=True, ax=ax)\n",
    "    ax.set_title('Correlation Matrix')\n",
    "    return plt.gcf()"
   ]
  },
  {
   "cell_type": "code",
   "execution_count": 165,
   "id": "cc8a9726",
   "metadata": {},
   "outputs": [],
   "source": [
    "def plot_history(history):\n",
    "    plt.plot(history.history['loss'], label='Training Loss')\n",
    "    plt.plot(history.history['val_loss'], label='Validation Loss')\n",
    "    plt.legend()\n",
    "    plt.show()\n",
    "\n",
    "    print(history.params)\n",
    "    print(history.history.keys())"
   ]
  },
  {
   "cell_type": "code",
   "execution_count": 153,
   "id": "8a7a4497",
   "metadata": {},
   "outputs": [],
   "source": [
    "# Load Data\n",
    "uav = pd.read_csv('uav_flight_data.csv')\n",
    "#fields = ['velocity_x', 'velocity_y', 'velocity_z', 'angular_x', 'angular_y', 'angular_z', 'linear_acceleration_x', 'linear_acceleration_y', 'linear_acceleration_z', 'position_x']\n",
    "#fields = ['angular_x', 'angular_y', 'angular_z', 'linear_acceleration_x', 'linear_acceleration_y', 'linear_acceleration_z', 'wind_speed', 'wind_angle', 'battery_voltage', 'battery_current', 'position_x']\n",
    "fields = ['angular_x', 'angular_y', 'angular_z', 'linear_acceleration_x', 'linear_acceleration_y', 'linear_acceleration_z', 'position_x']\n",
    "\n",
    "# TODO: Read the datetime from the parameters file\n",
    "start = dt.datetime(year=2015,month=1,day=1)\n",
    "uav['time'] = uav['time'] + start.timestamp()\n",
    "uav[\"time\"] = pd.to_datetime(uav[\"time\"], unit='s')\n",
    "\n",
    "uav = uav[['time', *fields]]\n",
    "\n",
    "# Do I still need this for this clean dataset?\n",
    "uav.fillna(uav.bfill())\n",
    "\n",
    "# Extract the training and test datasets\n",
    "train = uav[:int(len(uav)*0.8)]\n",
    "test = uav[int(len(uav)*0.8):]"
   ]
  },
  {
   "cell_type": "code",
   "execution_count": 157,
   "id": "c9ec3485",
   "metadata": {},
   "outputs": [
    {
     "name": "stdout",
     "output_type": "stream",
     "text": [
      "Scaled Data Shape:  (1447, 7)\n",
      "Window sample size:  144\n",
      "X Train Data Shape:  (1303, 144, 6)\n",
      "Y Train Data Shape:  (1303,)\n"
     ]
    }
   ],
   "source": [
    "# Prepare Data\n",
    "scaler = MinMaxScaler(feature_range=(0,1))\n",
    "scaled_data = np.array(scaler.fit_transform(train[fields]))\n",
    "print('Scaled Data Shape: ', scaled_data.shape)\n",
    "\n",
    "window_sample_size = int(len(scaled_data) / 10)\n",
    "print('Window sample size: ', window_sample_size)\n",
    "\n",
    "# NOTE: We are only going to use ACCEL_Z predict POS_Z to keep the problem univariate\n",
    "x_train = []\n",
    "y_train = []\n",
    "# Build the sliding window of samples (find the technical word for this ... maybe in sktime?)\n",
    "for x in range(window_sample_size, len(scaled_data)):\n",
    "    x_train.append(scaled_data[x-window_sample_size:x, :-1])\n",
    "    y_train.append(scaled_data[x, 3])\n",
    "\n",
    "x_train, y_train = np.array(x_train), np.array(y_train)\n",
    "print('X Train Data Shape: ', x_train.shape)\n",
    "print('Y Train Data Shape: ', y_train.shape)\n"
   ]
  },
  {
   "cell_type": "code",
   "execution_count": 167,
   "id": "8eb8c0a1",
   "metadata": {},
   "outputs": [
    {
     "name": "stdout",
     "output_type": "stream",
     "text": [
      "Model: \"sequential_26\"\n",
      "_________________________________________________________________\n",
      " Layer (type)                Output Shape              Param #   \n",
      "=================================================================\n",
      " lstm_67 (LSTM)              (None, 144, 128)          69120     \n",
      "                                                                 \n",
      " dropout_63 (Dropout)        (None, 144, 128)          0         \n",
      "                                                                 \n",
      " lstm_68 (LSTM)              (None, 144, 128)          131584    \n",
      "                                                                 \n",
      " dropout_64 (Dropout)        (None, 144, 128)          0         \n",
      "                                                                 \n",
      " lstm_69 (LSTM)              (None, 128)               131584    \n",
      "                                                                 \n",
      " dropout_65 (Dropout)        (None, 128)               0         \n",
      "                                                                 \n",
      " dense_22 (Dense)            (None, 1)                 129       \n",
      "                                                                 \n",
      "=================================================================\n",
      "Total params: 332,417\n",
      "Trainable params: 332,417\n",
      "Non-trainable params: 0\n",
      "_________________________________________________________________\n",
      "Epoch 1/25\n",
      "37/37 [==============================] - 6s 58ms/step - loss: 0.0257 - val_loss: 0.0195\n",
      "Epoch 2/25\n",
      "37/37 [==============================] - 1s 28ms/step - loss: 0.0081 - val_loss: 0.0179\n",
      "Epoch 3/25\n",
      "37/37 [==============================] - 1s 27ms/step - loss: 0.0067 - val_loss: 0.0184\n",
      "Epoch 4/25\n",
      "37/37 [==============================] - 1s 27ms/step - loss: 0.0052 - val_loss: 0.0189\n",
      "Epoch 5/25\n",
      "37/37 [==============================] - 1s 27ms/step - loss: 0.0047 - val_loss: 0.0193\n",
      "Epoch 6/25\n",
      "37/37 [==============================] - 1s 27ms/step - loss: 0.0041 - val_loss: 0.0189\n",
      "Epoch 7/25\n",
      "37/37 [==============================] - 1s 27ms/step - loss: 0.0041 - val_loss: 0.0187\n",
      "Epoch 8/25\n",
      "37/37 [==============================] - 1s 27ms/step - loss: 0.0038 - val_loss: 0.0197\n",
      "Epoch 9/25\n",
      "37/37 [==============================] - 1s 27ms/step - loss: 0.0041 - val_loss: 0.0190\n",
      "Epoch 10/25\n",
      "37/37 [==============================] - 1s 27ms/step - loss: 0.0041 - val_loss: 0.0193\n",
      "Epoch 11/25\n",
      "37/37 [==============================] - 1s 27ms/step - loss: 0.0037 - val_loss: 0.0187\n",
      "Epoch 12/25\n",
      "37/37 [==============================] - 1s 27ms/step - loss: 0.0036 - val_loss: 0.0187\n",
      "Epoch 13/25\n",
      "37/37 [==============================] - 1s 27ms/step - loss: 0.0035 - val_loss: 0.0188\n",
      "Epoch 14/25\n",
      "37/37 [==============================] - 1s 27ms/step - loss: 0.0035 - val_loss: 0.0183\n",
      "Epoch 15/25\n",
      "37/37 [==============================] - 1s 27ms/step - loss: 0.0035 - val_loss: 0.0191\n",
      "Epoch 16/25\n",
      "37/37 [==============================] - 1s 27ms/step - loss: 0.0037 - val_loss: 0.0196\n",
      "Epoch 17/25\n",
      "37/37 [==============================] - 1s 27ms/step - loss: 0.0045 - val_loss: 0.0184\n",
      "Epoch 18/25\n",
      "37/37 [==============================] - 1s 26ms/step - loss: 0.0037 - val_loss: 0.0184\n",
      "Epoch 19/25\n",
      "37/37 [==============================] - 1s 26ms/step - loss: 0.0033 - val_loss: 0.0195\n",
      "Epoch 20/25\n",
      "37/37 [==============================] - 1s 27ms/step - loss: 0.0035 - val_loss: 0.0196\n",
      "Epoch 21/25\n",
      "37/37 [==============================] - 1s 27ms/step - loss: 0.0037 - val_loss: 0.0193\n",
      "Epoch 22/25\n",
      "37/37 [==============================] - 1s 27ms/step - loss: 0.0032 - val_loss: 0.0182\n",
      "Epoch 23/25\n",
      "37/37 [==============================] - 1s 26ms/step - loss: 0.0032 - val_loss: 0.0192\n",
      "Epoch 24/25\n",
      "37/37 [==============================] - 1s 26ms/step - loss: 0.0034 - val_loss: 0.0190\n",
      "Epoch 25/25\n",
      "37/37 [==============================] - 1s 27ms/step - loss: 0.0032 - val_loss: 0.0184\n"
     ]
    },
    {
     "data": {
      "image/png": "[encoded data removed]",
      "text/plain": [
       "<Figure size 432x288 with 1 Axes>"
      ]
     },
     "metadata": {
      "needs_background": "light"
     },
     "output_type": "display_data"
    },
    {
     "name": "stdout",
     "output_type": "stream",
     "text": [
      "{'verbose': 1, 'epochs': 25, 'steps': 37}\n",
      "dict_keys(['loss', 'val_loss'])\n"
     ]
    }
   ],
   "source": [
    "# Build The Model\n",
    "model = Sequential()\n",
    "\n",
    "model.add(LSTM(units=128, activation='tanh', return_sequences=True, input_shape=(x_train.shape[1:])))\n",
    "model.add(Dropout(0.4))\n",
    "model.add(LSTM(units=128, activation='tanh', return_sequences=True))\n",
    "model.add(Dropout(0.2))\n",
    "model.add(LSTM(units=128, activation='tanh', return_sequences=False))\n",
    "model.add(Dropout(0.1))\n",
    "model.add(Dense(units=1)) # Prediction of the next value\n",
    "\n",
    "model.compile(optimizer='adam', loss='mean_squared_error')\n",
    "model.summary()\n",
    "\n",
    "## Need to figure out how the data size and the batch_size work ... need to optimize for a GPU system.  Higher batch size works much better on the GPU (less overhead)\n",
    "history = model.fit(x_train, y_train, epochs=25, batch_size=32, validation_split=0.1)\n",
    "plot_history(history)"
   ]
  },
  {
   "cell_type": "code",
   "execution_count": 166,
   "id": "887483fc",
   "metadata": {},
   "outputs": [
    {
     "data": {
      "image/png": "[encoded data removed]",
      "text/plain": [
       "<Figure size 432x288 with 1 Axes>"
      ]
     },
     "metadata": {
      "needs_background": "light"
     },
     "output_type": "display_data"
    },
    {
     "name": "stdout",
     "output_type": "stream",
     "text": [
      "{'verbose': 1, 'epochs': 25, 'steps': 37}\n",
      "dict_keys(['loss', 'val_loss'])\n"
     ]
    }
   ],
   "source": [
    "plot_history(history)"
   ]
  },
  {
   "cell_type": "code",
   "execution_count": null,
   "id": "2c6ef32a",
   "metadata": {},
   "outputs": [],
   "source": [
    "### Test the Model Accuracy on Existing Data ###\n",
    "################################################\n",
    "\n",
    "# take Test data Again\n",
    "test.head()\n",
    "actual_temp = test['Avg_Temp'].values\n",
    "total_temp = pd.concat((train['Avg_Temp'], test['Avg_Temp']),axis=0)\n",
    "\n",
    "model_inputs = total_temp[len(total_temp)-len(test)-prediction_days:].values\n",
    "model_inputs = model_inputs.reshape(-1,1)\n",
    "model_inputs = scaler.transform(model_inputs)\n",
    "\n",
    "\n",
    "# Make Predictions on Test Data\n",
    "x_test = []\n",
    "\n",
    "for x in range(prediction_days, len(model_inputs)):\n",
    "    x_test.append(model_inputs[x-prediction_days:x, 0])\n",
    "\n",
    "x_test = np.array(x_test)\n",
    "x_test = np.reshape(x_test, (x_test.shape[0], x_test.shape[1], 1))\n",
    "\n",
    "pred = model.predict(x_test)\n",
    "print('Predictions:\\n', pred[:][:10])\n",
    "pred = scaler.inverse_transform(pred)\n",
    "print('Inverse Transformed Predictions\\n', pred[:][:10])\n",
    "\n",
    "from sklearn.metrics import mean_absolute_error\n",
    "mean_absolute_error(test['Avg_Temp'], pred)"
   ]
  },
  {
   "cell_type": "code",
   "execution_count": null,
   "id": "5b53fdde",
   "metadata": {},
   "outputs": [],
   "source": [
    "### Visualization ###\n",
    "#####################\n",
    "pred_ = pd.DataFrame(test['Date'])\n",
    "pred_['Avg_Temp'] = pred\n",
    "pred_[\"Date\"] = pd.to_datetime(pred_[\"Date\"])\n",
    "\n",
    "pred_\n",
    "original = florida.loc[florida['Date'] >= '1990-01-01']\n",
    "\n",
    "import seaborn as sns\n",
    "sns.lineplot(original['Date'], original['Avg_Temp'])\n",
    "sns.lineplot(pred_['Date'], pred_['Avg_Temp'])\n",
    "plt.show()"
   ]
  }
 ],
 "metadata": {
  "kernelspec": {
   "display_name": "Python 3 (ipykernel)",
   "language": "python",
   "name": "python3"
  },
  "language_info": {
   "codemirror_mode": {
    "name": "ipython",
    "version": 3
   },
   "file_extension": ".py",
   "mimetype": "text/x-python",
   "name": "python",
   "nbconvert_exporter": "python",
   "pygments_lexer": "ipython3",
   "version": "3.8.10"
  }
 },
 "nbformat": 4,
 "nbformat_minor": 5
}
